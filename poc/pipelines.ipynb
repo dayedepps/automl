{
 "metadata": {
  "name": ""
 },
 "nbformat": 3,
 "nbformat_minor": 0,
 "worksheets": [
  {
   "cells": [
    {
     "cell_type": "code",
     "collapsed": false,
     "input": [
      "import networkx as nx\n",
      "import inspect\n",
      "import copy"
     ],
     "language": "python",
     "metadata": {},
     "outputs": [],
     "prompt_number": 10
    },
    {
     "cell_type": "code",
     "collapsed": false,
     "input": [
      "def make_pipeline():\n",
      "    pipeline = nx.DiGraph()\n",
      "    pipeline.max_id = 0 ## infinite source of id\n",
      "    return pipeline\n",
      "\n",
      "def make_pipe(fn, ins, outs, pipeline):\n",
      "    pipe_id = pipeline.max_id\n",
      "    pipeline.max_id += 1 \n",
      "    pipe_config = {'fn': fn, 'args': inspect.getargspec(fn).args, \n",
      "                    'ins': ins, 'outs': outs, \n",
      "                    'in_bindings': {k:None for k in ins}, \n",
      "                    'out_bindings': {k:None for k in outs}}\n",
      "    pipeline.add_node(pipe_id, pipe_config)\n",
      "    return pipe_id\n",
      "\n",
      "def connect_pipes(from_id, out_arg, to_id, in_arg, pipeline):\n",
      "    pipeline.add_edge(from_id, to_id)\n",
      "    from_node = pipeline.node[from_id]\n",
      "    to_node = pipeline.node[to_id]\n",
      "    assert from_node['out_bindings'][out_arg] is None\n",
      "    assert to_node['in_bindings'][in_arg] is None\n",
      "    common_item = 'pipeline%i_%i_to_%i' % (id(pipeline), from_id, to_id)\n",
      "    from_node['out_bindings'][out_arg] = common_item\n",
      "    to_node['in_bindings'][in_arg] = common_item\n",
      "    return pipeline\n",
      "\n",
      "def bind_inputs(in_args, in_items, pipe_id, pipeline):\n",
      "    pipe_node = pipeline.node[pipe_id]\n",
      "    for in_arg, in_item in zip(in_args, in_items):\n",
      "        assert pipe_node['in_bindings'][in_arg] is None\n",
      "        pipe_node['in_bindings'][in_arg] = in_item\n",
      "\n",
      "def bind_outputs(out_args, out_items, pipe_id, pipeline):\n",
      "    pipe_node = pipeline.node[pipe_id]\n",
      "    for out_arg, out_item in zip(out_args, out_items):\n",
      "        assert pipe_node['out_bindings'][out_arg] is None\n",
      "        pipe_node['out_bindings'][out_arg] = out_item\n",
      "        \n",
      "def run_pipeline(pipeline):\n",
      "    for pipe_id in nx.topological_sort(pipeline):\n",
      "        pipe_node = pipeline.node[pipe_id]\n",
      "        fn = pipe_node['fn']\n",
      "        bindings = copy.copy(pipe_node['in_bindings'])\n",
      "        bindings.update(pipe_node['out_bindings'])\n",
      "        fn(**bindings)"
     ],
     "language": "python",
     "metadata": {},
     "outputs": [],
     "prompt_number": 22
    },
    {
     "cell_type": "code",
     "collapsed": false,
     "input": [
      "model_template = ['sgd']\n",
      "train_data = ['iris_train']\n",
      "test_data = ['iris_test']\n",
      "predicted_data = [None]\n",
      "\n",
      "def train_model(data, model_template, trained_model):\n",
      "    trained_model[0] = model_template[0] + '_ON_' + data[0]\n",
      "\n",
      "def predict_model(data, model, prediction):\n",
      "    prediction[0] = model[0] + '_FOR_' + data[0]\n",
      "\n",
      "trained_model = [None]    \n",
      "train_model(train_data, model_template, trained_model)\n",
      "predict_model(test_data, trained_model, predicted_data)\n",
      "\n",
      "print predicted_data"
     ],
     "language": "python",
     "metadata": {},
     "outputs": [
      {
       "output_type": "stream",
       "stream": "stdout",
       "text": [
        "['sgd_ON_iris_train_FOR_iris_test']\n"
       ]
      }
     ],
     "prompt_number": 23
    },
    {
     "cell_type": "code",
     "collapsed": false,
     "input": [
      "fs = {'model_template': 'rf',\n",
      "      'train_data': 'mnist_train',\n",
      "      'test_data': 'mnist_test',\n",
      "      'predicted_data': None}\n",
      "\n",
      "def train_model(data, model_template, trained_model):\n",
      "    fs[trained_model] = fs[model_template] + '_ON_' + fs[data]\n",
      "\n",
      "def predict_model(data, model, prediction):\n",
      "    fs[prediction] = fs[model] + '_FOR_' + fs[data]\n",
      "    \n",
      "    \n",
      "\n",
      "pipeline = make_pipeline()\n",
      "train_pipe = make_pipe(train_model, \n",
      "                       ins = ['data', 'model_template'], outs = ['trained_model'],\n",
      "                       pipeline = pipeline)\n",
      "predict_pipe = make_pipe(predict_model,\n",
      "                         ins = ['data', 'model'], outs = ['prediction'],\n",
      "                         pipeline = pipeline)\n",
      "pipeline = connect_pipes(train_pipe, 'trained_model', \n",
      "                         predict_pipe, 'model', pipeline = pipeline)\n",
      "bind_inputs(['data', 'model_template'], ['train_data', 'model_template'], train_pipe, pipeline)\n",
      "bind_inputs(['data'], ['test_data'], predict_pipe, pipeline)\n",
      "bind_outputs(['prediction'], ['predicted_data'], predict_pipe, pipeline)\n",
      "#print pipeline.nodes(True)\n",
      "run_pipeline(pipeline)\n",
      "\n",
      "print fs['predicted_data']"
     ],
     "language": "python",
     "metadata": {},
     "outputs": [
      {
       "output_type": "stream",
       "stream": "stdout",
       "text": [
        "rf_ON_mnist_train_FOR_mnist_test\n"
       ]
      }
     ],
     "prompt_number": 24
    },
    {
     "cell_type": "code",
     "collapsed": false,
     "input": [
      "nx.draw(pipeline)"
     ],
     "language": "python",
     "metadata": {},
     "outputs": [
      {
       "metadata": {},
       "output_type": "display_data",
       "png": "[encoded data removed]",
       "text": [
        "<matplotlib.figure.Figure at 0x10f8d3bd0>"
       ]
      }
     ],
     "prompt_number": 31
    },
    {
     "cell_type": "code",
     "collapsed": false,
     "input": [],
     "language": "python",
     "metadata": {},
     "outputs": []
    }
   ],
   "metadata": {}
  }
 ]
}