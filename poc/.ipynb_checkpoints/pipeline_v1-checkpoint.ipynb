{
 "metadata": {
  "name": ""
 },
 "nbformat": 3,
 "nbformat_minor": 0,
 "worksheets": [
  {
   "cells": [
    {
     "cell_type": "code",
     "collapsed": false,
     "input": [
      "%load pipeline.py"
     ],
     "language": "python",
     "metadata": {},
     "outputs": [],
     "prompt_number": 86
    },
    {
     "cell_type": "markdown",
     "metadata": {},
     "source": [
      "## Testing Code"
     ]
    },
    {
     "cell_type": "code",
     "collapsed": false,
     "input": [
      "## clean up all the existing folder\n",
      "project_name = 'prototype_pipe'\n",
      "container_path = 'data'\n",
      "\n",
      "project_path = write_project(container_path, project_name)\n",
      "\n",
      "!tree data"
     ],
     "language": "python",
     "metadata": {},
     "outputs": [
      {
       "output_type": "stream",
       "stream": "stdout",
       "text": [
        "\u001b[01;34mdata\u001b[00m\r\n",
        "\u2514\u2500\u2500 \u001b[01;34mprototype_pipe\u001b[00m\r\n",
        "    \u251c\u2500\u2500 \u001b[01;34mdata\u001b[00m\r\n",
        "    \u2502\u00a0\u00a0 \u2514\u2500\u2500 meta.db\r\n",
        "    \u251c\u2500\u2500 \u001b[01;34mmodels\u001b[00m\r\n",
        "    \u2502\u00a0\u00a0 \u2514\u2500\u2500 meta.db\r\n",
        "    \u2514\u2500\u2500 \u001b[01;34mtemp\u001b[00m\r\n",
        "\r\n",
        "4 directories, 2 files\r\n"
       ]
      }
     ],
     "prompt_number": 3
    },
    {
     "cell_type": "code",
     "collapsed": false,
     "input": [
      "## Data Management - create, presiste meta-data\n",
      "iris = datasets.load_iris()\n",
      "iris_meta = {  'name': 'iris_original' \n",
      "             , 'namespace': 'iris'\n",
      "             , 'input_features': [\"SepalLength\", \"SepalWidth\", \n",
      "                                     'PetalLength', 'PetalWidth']\n",
      "             , 'output_features': [\"Species\"]\n",
      "             , 'type': DataType.MULTI_CLASSIFICATION}\n",
      "X = pd.DataFrame(iris.data, columns = [\"SepalLength\", \"SepalWidth\", \n",
      "                            'PetalLength', 'PetalWidth'])\n",
      "y = pd.DataFrame(iris.target, columns = ['Species'])\n",
      "iris_bulk = hglue([X, y])\n",
      "write_data(iris_meta, iris_bulk, project_path)\n",
      "\n",
      "!tree data"
     ],
     "language": "python",
     "metadata": {},
     "outputs": [
      {
       "output_type": "stream",
       "stream": "stdout",
       "text": [
        "\u001b[01;34mdata\u001b[00m\r\n",
        "\u2514\u2500\u2500 \u001b[01;34mprototype_pipe\u001b[00m\r\n",
        "    \u251c\u2500\u2500 \u001b[01;34mdata\u001b[00m\r\n",
        "    \u2502\u00a0\u00a0 \u251c\u2500\u2500 \u001b[01;34miris_original\u001b[00m\r\n",
        "    \u2502\u00a0\u00a0 \u2502\u00a0\u00a0 \u251c\u2500\u2500 bulk.pkl\r\n",
        "    \u2502\u00a0\u00a0 \u2502\u00a0\u00a0 \u251c\u2500\u2500 bulk.pkl_01.npy\r\n",
        "    \u2502\u00a0\u00a0 \u2502\u00a0\u00a0 \u2514\u2500\u2500 bulk.pkl_02.npy\r\n",
        "    \u2502\u00a0\u00a0 \u2514\u2500\u2500 meta.db\r\n",
        "    \u251c\u2500\u2500 \u001b[01;34mmodels\u001b[00m\r\n",
        "    \u2502\u00a0\u00a0 \u2514\u2500\u2500 meta.db\r\n",
        "    \u2514\u2500\u2500 \u001b[01;34mtemp\u001b[00m\r\n",
        "\r\n",
        "5 directories, 5 files\r\n"
       ]
      }
     ],
     "prompt_number": 4
    },
    {
     "cell_type": "code",
     "collapsed": false,
     "input": [
      "## Model management - create, persiste, meta-data\n",
      "sgd_cls = linear_model.SGDClassifier(penalty='elasticnet', loss ='hinge')\n",
      "sgdcls_meta = {'name': 'sgd_classifier', 'type': ModelType.MULTI_CLASSIFIER}\n",
      "write_model(sgdcls_meta, sgd_cls, project_path)\n",
      "\n",
      "## sgd regression just for testing\n",
      "sgd_reg = linear_model.SGDRegressor()\n",
      "sgdreg_meta = {'name': 'sgd_regressor', 'type': ModelType.REGRESSOR}\n",
      "write_model(sgdreg_meta, sgd_reg, project_path)\n",
      "\n",
      "print trainable(read_model_meta('sgd_classifier', project_path), \n",
      "                   read_data_meta('iris_original', project_path))\n",
      "print trainable(read_model_meta('sgd_regressor', project_path), \n",
      "                   read_data_meta('iris_original', project_path))\n",
      "\n",
      "#train_on(project_path, 'sgd_regressor', 'iris_original', 'sgd_regressor_iris')\n",
      "train_on('sgd_classifier', 'iris_original', 'sgd_classifier_iris', project_path)\n",
      "\n",
      "##train random forest model\n",
      "from sklearn.ensemble import RandomForestClassifier\n",
      "rf_model = RandomForestClassifier(n_estimators=3, max_depth=2)\n",
      "rf_meta = {'name':'rf_classifier', 'type': ModelType.MULTI_CLASSIFIER}\n",
      "##create project folder\n",
      "write_model(rf_meta, rf_model, project_path)\n",
      "print trainable(read_model_meta('rf_classifier', project_path), read_data_meta('iris_original', project_path))\n",
      "train_on('rf_classifier', 'iris_original', 'rf_classifier_iris', project_path)"
     ],
     "language": "python",
     "metadata": {},
     "outputs": [
      {
       "output_type": "stream",
       "stream": "stdout",
       "text": [
        "True\n",
        "False\n",
        "True\n"
       ]
      }
     ],
     "prompt_number": 5
    },
    {
     "cell_type": "code",
     "collapsed": false,
     "input": [
      "## TEST LOW IO\n",
      "print query_db('data/prototype_pipe/data/meta.db', 'data_meta')\n",
      "print query_db('data/prototype_pipe/data/meta.db', 'data_meta', columns=[\"name\"])\n",
      "print query_db('data/prototype_pipe/data/meta.db', 'data_meta', columns=['name', 'input_features', 'output_features'], \n",
      "               where = 'name = \"iris_original\"')\n",
      "print query_db('data/prototype_pipe/data/meta.db', 'data_meta', where = \"name='NOEXIST'\")"
     ],
     "language": "python",
     "metadata": {},
     "outputs": [
      {
       "output_type": "stream",
       "stream": "stdout",
       "text": [
        "[{'input_features': u'[\"SepalLength\", \"SepalWidth\", \"PetalLength\", \"PetalWidth\"]', 'type': 4, 'namespace': u'iris', 'name': u'iris_original', 'output_features': u'[\"Species\"]'}]\n",
        "[{'name': u'iris_original'}]\n",
        "[{'output_features': u'[\"Species\"]', 'input_features': u'[\"SepalLength\", \"SepalWidth\", \"PetalLength\", \"PetalWidth\"]', 'name': u'iris_original'}]\n",
        "[]\n"
       ]
      }
     ],
     "prompt_number": 6
    },
    {
     "cell_type": "code",
     "collapsed": false,
     "input": [
      "## apply model to data\n",
      "print predictable(read_model_meta('sgd_classifier_iris', project_path), \n",
      "            read_data_meta('iris_original', project_path), project_path)\n",
      "predict_on('sgd_classifier_iris', 'iris_original', 'sgd_classifier_iris_prediction', project_path)\n",
      "## make prediction on the trained model\n",
      "## apply model to data\n",
      "print predictable(read_model_meta('rf_classifier_iris', project_path), \n",
      "            read_data_meta('iris_original', project_path), project_path)\n",
      "predict_on('rf_classifier_iris', 'iris_original', 'rf_classifier_iris_prediction', project_path)\n",
      "!tree"
     ],
     "language": "python",
     "metadata": {},
     "outputs": [
      {
       "output_type": "stream",
       "stream": "stdout",
       "text": [
        "True\n",
        "True\n",
        "\u001b[01;34m.\u001b[00m\r\n",
        "\u251c\u2500\u2500 \u001b[01;34mdata\u001b[00m\r\n",
        "\u2502\u00a0\u00a0 \u2514\u2500\u2500 \u001b[01;34mprototype_pipe\u001b[00m\r\n",
        "\u2502\u00a0\u00a0     \u251c\u2500\u2500 \u001b[01;34mdata\u001b[00m\r\n",
        "\u2502\u00a0\u00a0     \u2502\u00a0\u00a0 \u251c\u2500\u2500 \u001b[01;34miris_original\u001b[00m\r\n",
        "\u2502\u00a0\u00a0     \u2502\u00a0\u00a0 \u2502\u00a0\u00a0 \u251c\u2500\u2500 bulk.pkl\r\n",
        "\u2502\u00a0\u00a0     \u2502\u00a0\u00a0 \u2502\u00a0\u00a0 \u251c\u2500\u2500 bulk.pkl_01.npy\r\n",
        "\u2502\u00a0\u00a0     \u2502\u00a0\u00a0 \u2502\u00a0\u00a0 \u2514\u2500\u2500 bulk.pkl_02.npy\r\n",
        "\u2502\u00a0\u00a0     \u2502\u00a0\u00a0 \u251c\u2500\u2500 meta.db\r\n",
        "\u2502\u00a0\u00a0     \u2502\u00a0\u00a0 \u251c\u2500\u2500 \u001b[01;34mrf_classifier_iris_prediction\u001b[00m\r\n",
        "\u2502\u00a0\u00a0     \u2502\u00a0\u00a0 \u2502\u00a0\u00a0 \u251c\u2500\u2500 bulk.pkl\r\n",
        "\u2502\u00a0\u00a0     \u2502\u00a0\u00a0 \u2502\u00a0\u00a0 \u251c\u2500\u2500 bulk.pkl_01.npy\r\n",
        "\u2502\u00a0\u00a0     \u2502\u00a0\u00a0 \u2502\u00a0\u00a0 \u2514\u2500\u2500 bulk.pkl_02.npy\r\n",
        "\u2502\u00a0\u00a0     \u2502\u00a0\u00a0 \u2514\u2500\u2500 \u001b[01;34msgd_classifier_iris_prediction\u001b[00m\r\n",
        "\u2502\u00a0\u00a0     \u2502\u00a0\u00a0     \u251c\u2500\u2500 bulk.pkl\r\n",
        "\u2502\u00a0\u00a0     \u2502\u00a0\u00a0     \u251c\u2500\u2500 bulk.pkl_01.npy\r\n",
        "\u2502\u00a0\u00a0     \u2502\u00a0\u00a0     \u2514\u2500\u2500 bulk.pkl_02.npy\r\n",
        "\u2502\u00a0\u00a0     \u251c\u2500\u2500 \u001b[01;34mmodels\u001b[00m\r\n",
        "\u2502\u00a0\u00a0     \u2502\u00a0\u00a0 \u251c\u2500\u2500 meta.db\r\n",
        "\u2502\u00a0\u00a0     \u2502\u00a0\u00a0 \u251c\u2500\u2500 \u001b[01;34mrf_classifier\u001b[00m\r\n",
        "\u2502\u00a0\u00a0     \u2502\u00a0\u00a0 \u2502\u00a0\u00a0 \u2514\u2500\u2500 bulk.pkl\r\n",
        "\u2502\u00a0\u00a0     \u2502\u00a0\u00a0 \u251c\u2500\u2500 \u001b[01;34mrf_classifier_iris\u001b[00m\r\n",
        "\u2502\u00a0\u00a0     \u2502\u00a0\u00a0 \u2502\u00a0\u00a0 \u251c\u2500\u2500 bulk.pkl\r\n",
        "\u2502\u00a0\u00a0     \u2502\u00a0\u00a0 \u2502\u00a0\u00a0 \u251c\u2500\u2500 bulk.pkl_01.npy\r\n",
        "\u2502\u00a0\u00a0     \u2502\u00a0\u00a0 \u2502\u00a0\u00a0 \u251c\u2500\u2500 bulk.pkl_02.npy\r\n",
        "\u2502\u00a0\u00a0     \u2502\u00a0\u00a0 \u2502\u00a0\u00a0 \u251c\u2500\u2500 bulk.pkl_03.npy\r\n",
        "\u2502\u00a0\u00a0     \u2502\u00a0\u00a0 \u2502\u00a0\u00a0 \u251c\u2500\u2500 bulk.pkl_04.npy\r\n",
        "\u2502\u00a0\u00a0     \u2502\u00a0\u00a0 \u2502\u00a0\u00a0 \u251c\u2500\u2500 bulk.pkl_05.npy\r\n",
        "\u2502\u00a0\u00a0     \u2502\u00a0\u00a0 \u2502\u00a0\u00a0 \u251c\u2500\u2500 bulk.pkl_06.npy\r\n",
        "\u2502\u00a0\u00a0     \u2502\u00a0\u00a0 \u2502\u00a0\u00a0 \u251c\u2500\u2500 bulk.pkl_07.npy\r\n",
        "\u2502\u00a0\u00a0     \u2502\u00a0\u00a0 \u2502\u00a0\u00a0 \u251c\u2500\u2500 bulk.pkl_08.npy\r\n",
        "\u2502\u00a0\u00a0     \u2502\u00a0\u00a0 \u2502\u00a0\u00a0 \u251c\u2500\u2500 bulk.pkl_09.npy\r\n",
        "\u2502\u00a0\u00a0     \u2502\u00a0\u00a0 \u2502\u00a0\u00a0 \u251c\u2500\u2500 bulk.pkl_10.npy\r\n",
        "\u2502\u00a0\u00a0     \u2502\u00a0\u00a0 \u2502\u00a0\u00a0 \u251c\u2500\u2500 bulk.pkl_11.npy\r\n",
        "\u2502\u00a0\u00a0     \u2502\u00a0\u00a0 \u2502\u00a0\u00a0 \u251c\u2500\u2500 bulk.pkl_12.npy\r\n",
        "\u2502\u00a0\u00a0     \u2502\u00a0\u00a0 \u2502\u00a0\u00a0 \u251c\u2500\u2500 bulk.pkl_13.npy\r\n",
        "\u2502\u00a0\u00a0     \u2502\u00a0\u00a0 \u2502\u00a0\u00a0 \u251c\u2500\u2500 bulk.pkl_14.npy\r\n",
        "\u2502\u00a0\u00a0     \u2502\u00a0\u00a0 \u2502\u00a0\u00a0 \u251c\u2500\u2500 bulk.pkl_15.npy\r\n",
        "\u2502\u00a0\u00a0     \u2502\u00a0\u00a0 \u2502\u00a0\u00a0 \u251c\u2500\u2500 bulk.pkl_16.npy\r\n",
        "\u2502\u00a0\u00a0     \u2502\u00a0\u00a0 \u2502\u00a0\u00a0 \u251c\u2500\u2500 bulk.pkl_17.npy\r\n",
        "\u2502\u00a0\u00a0     \u2502\u00a0\u00a0 \u2502\u00a0\u00a0 \u251c\u2500\u2500 bulk.pkl_18.npy\r\n",
        "\u2502\u00a0\u00a0     \u2502\u00a0\u00a0 \u2502\u00a0\u00a0 \u251c\u2500\u2500 bulk.pkl_19.npy\r\n",
        "\u2502\u00a0\u00a0     \u2502\u00a0\u00a0 \u2502\u00a0\u00a0 \u251c\u2500\u2500 bulk.pkl_20.npy\r\n",
        "\u2502\u00a0\u00a0     \u2502\u00a0\u00a0 \u2502\u00a0\u00a0 \u251c\u2500\u2500 bulk.pkl_21.npy\r\n",
        "\u2502\u00a0\u00a0     \u2502\u00a0\u00a0 \u2502\u00a0\u00a0 \u251c\u2500\u2500 bulk.pkl_22.npy\r\n",
        "\u2502\u00a0\u00a0     \u2502\u00a0\u00a0 \u2502\u00a0\u00a0 \u251c\u2500\u2500 bulk.pkl_23.npy\r\n",
        "\u2502\u00a0\u00a0     \u2502\u00a0\u00a0 \u2502\u00a0\u00a0 \u251c\u2500\u2500 bulk.pkl_24.npy\r\n",
        "\u2502\u00a0\u00a0     \u2502\u00a0\u00a0 \u2502\u00a0\u00a0 \u251c\u2500\u2500 bulk.pkl_25.npy\r\n",
        "\u2502\u00a0\u00a0     \u2502\u00a0\u00a0 \u2502\u00a0\u00a0 \u251c\u2500\u2500 bulk.pkl_26.npy\r\n",
        "\u2502\u00a0\u00a0     \u2502\u00a0\u00a0 \u2502\u00a0\u00a0 \u251c\u2500\u2500 bulk.pkl_27.npy\r\n",
        "\u2502\u00a0\u00a0     \u2502\u00a0\u00a0 \u2502\u00a0\u00a0 \u251c\u2500\u2500 bulk.pkl_28.npy\r\n",
        "\u2502\u00a0\u00a0     \u2502\u00a0\u00a0 \u2502\u00a0\u00a0 \u251c\u2500\u2500 bulk.pkl_29.npy\r\n",
        "\u2502\u00a0\u00a0     \u2502\u00a0\u00a0 \u2502\u00a0\u00a0 \u251c\u2500\u2500 bulk.pkl_30.npy\r\n",
        "\u2502\u00a0\u00a0     \u2502\u00a0\u00a0 \u2502\u00a0\u00a0 \u251c\u2500\u2500 bulk.pkl_31.npy\r\n",
        "\u2502\u00a0\u00a0     \u2502\u00a0\u00a0 \u2502\u00a0\u00a0 \u251c\u2500\u2500 bulk.pkl_32.npy\r\n",
        "\u2502\u00a0\u00a0     \u2502\u00a0\u00a0 \u2502\u00a0\u00a0 \u251c\u2500\u2500 bulk.pkl_33.npy\r\n",
        "\u2502\u00a0\u00a0     \u2502\u00a0\u00a0 \u2502\u00a0\u00a0 \u251c\u2500\u2500 bulk.pkl_34.npy\r\n",
        "\u2502\u00a0\u00a0     \u2502\u00a0\u00a0 \u2502\u00a0\u00a0 \u251c\u2500\u2500 bulk.pkl_35.npy\r\n",
        "\u2502\u00a0\u00a0     \u2502\u00a0\u00a0 \u2502\u00a0\u00a0 \u251c\u2500\u2500 bulk.pkl_36.npy\r\n",
        "\u2502\u00a0\u00a0     \u2502\u00a0\u00a0 \u2502\u00a0\u00a0 \u2514\u2500\u2500 bulk.pkl_37.npy\r\n",
        "\u2502\u00a0\u00a0     \u2502\u00a0\u00a0 \u251c\u2500\u2500 \u001b[01;34msgd_classifier\u001b[00m\r\n",
        "\u2502\u00a0\u00a0     \u2502\u00a0\u00a0 \u2502\u00a0\u00a0 \u2514\u2500\u2500 bulk.pkl\r\n",
        "\u2502\u00a0\u00a0     \u2502\u00a0\u00a0 \u251c\u2500\u2500 \u001b[01;34msgd_classifier_iris\u001b[00m\r\n",
        "\u2502\u00a0\u00a0     \u2502\u00a0\u00a0 \u2502\u00a0\u00a0 \u251c\u2500\u2500 bulk.pkl\r\n",
        "\u2502\u00a0\u00a0     \u2502\u00a0\u00a0 \u2502\u00a0\u00a0 \u251c\u2500\u2500 bulk.pkl_01.npy\r\n",
        "\u2502\u00a0\u00a0     \u2502\u00a0\u00a0 \u2502\u00a0\u00a0 \u251c\u2500\u2500 bulk.pkl_02.npy\r\n",
        "\u2502\u00a0\u00a0     \u2502\u00a0\u00a0 \u2502\u00a0\u00a0 \u251c\u2500\u2500 bulk.pkl_03.npy\r\n",
        "\u2502\u00a0\u00a0     \u2502\u00a0\u00a0 \u2502\u00a0\u00a0 \u2514\u2500\u2500 bulk.pkl_04.npy\r\n",
        "\u2502\u00a0\u00a0     \u2502\u00a0\u00a0 \u2514\u2500\u2500 \u001b[01;34msgd_regressor\u001b[00m\r\n",
        "\u2502\u00a0\u00a0     \u2502\u00a0\u00a0     \u2514\u2500\u2500 bulk.pkl\r\n",
        "\u2502\u00a0\u00a0     \u2514\u2500\u2500 \u001b[01;34mtemp\u001b[00m\r\n",
        "\u251c\u2500\u2500 iris_pipelines.ipynb\r\n",
        "\u251c\u2500\u2500 models.py\r\n",
        "\u251c\u2500\u2500 models.pyc\r\n",
        "\u251c\u2500\u2500 pipeline.py\r\n",
        "\u2514\u2500\u2500 pipeline_v1.ipynb\r\n",
        "\r\n",
        "13 directories, 62 files\r\n"
       ]
      }
     ],
     "prompt_number": 7
    },
    {
     "cell_type": "code",
     "collapsed": false,
     "input": [
      "print score_on('iris_original', 'sgd_classifier_iris_prediction', metrics.accuracy_score, project_path)\n",
      "print score_on('iris_original', 'sgd_classifier_iris_prediction', metrics.confusion_matrix, project_path)\n",
      "## test the score of the rf model\n",
      "print score_on('iris_original', 'rf_classifier_iris_prediction', metrics.accuracy_score, project_path)\n",
      "print score_on('iris_original', 'rf_classifier_iris_prediction', metrics.confusion_matrix, project_path)"
     ],
     "language": "python",
     "metadata": {},
     "outputs": [
      {
       "output_type": "stream",
       "stream": "stdout",
       "text": [
        "0.666666666667\n",
        "[[50  0  0]\n",
        " [ 0  0 50]\n",
        " [ 0  0 50]]\n",
        "0.953333333333\n",
        "[[50  0  0]\n",
        " [ 0 48  2]\n",
        " [ 0  5 45]]\n"
       ]
      }
     ],
     "prompt_number": 8
    },
    {
     "cell_type": "code",
     "collapsed": false,
     "input": [
      "## pipeline\n",
      "train_predict = pipe_model2model(train_fn = train_on, predict_fn = predict_on)\n",
      "train_predict(project_path = project_path, model_name = 'rf_classifier', \n",
      "              train_data_name = 'iris_original', test_data_name = 'iris_original', \n",
      "              predicted_data_name = 'rf_classifier_iris_prediction')"
     ],
     "language": "python",
     "metadata": {},
     "outputs": [],
     "prompt_number": 9
    },
    {
     "cell_type": "code",
     "collapsed": false,
     "input": [
      "print score_on('iris_original', 'rf_classifier_iris_prediction', metrics.accuracy_score, project_path)\n",
      "print score_on('iris_original', 'rf_classifier_iris_prediction', metrics.confusion_matrix, project_path)"
     ],
     "language": "python",
     "metadata": {},
     "outputs": [
      {
       "output_type": "stream",
       "stream": "stdout",
       "text": [
        "0.953333333333\n",
        "[[50  0  0]\n",
        " [ 0 44  6]\n",
        " [ 0  1 49]]\n"
       ]
      }
     ],
     "prompt_number": 10
    },
    {
     "cell_type": "code",
     "collapsed": false,
     "input": [
      "current_train_on = bind_project_path(train_on, project_path)\n",
      "current_train_on('sgd_classifier', 'iris_original', 'sgd_classifier_iris')\n",
      "current_predict_on = bind_project_path(predict_on, project_path)\n",
      "current_predict_on('sgd_classifier_iris', 'iris_original', 'sgd_iris_prediction')\n",
      "current_score_on = bind_project_path(score_on, project_path)\n",
      "current_score_on('iris_original', 'sgd_iris_prediction', metrics.accuracy_score)"
     ],
     "language": "python",
     "metadata": {},
     "outputs": [
      {
       "metadata": {},
       "output_type": "pyout",
       "prompt_number": 17,
       "text": [
        "0.66666666666666663"
       ]
      }
     ],
     "prompt_number": 17
    },
    {
     "cell_type": "markdown",
     "metadata": {},
     "source": [
      "## Test Pipeline"
     ]
    },
    {
     "cell_type": "code",
     "collapsed": false,
     "input": [
      "## clean up all the existing folder\n",
      "project_name = 'pipeline1'\n",
      "container_path = 'data'\n",
      "\n",
      "project_path = write_project(container_path, project_name)\n",
      "\n",
      "!tree data"
     ],
     "language": "python",
     "metadata": {},
     "outputs": [
      {
       "output_type": "stream",
       "stream": "stdout",
       "text": [
        "\u001b[01;34mdata\u001b[00m\r\n",
        "\u2514\u2500\u2500 \u001b[01;34mpipeline1\u001b[00m\r\n",
        "    \u251c\u2500\u2500 \u001b[01;34mdata\u001b[00m\r\n",
        "    \u2502\u00a0\u00a0 \u2514\u2500\u2500 meta.db\r\n",
        "    \u251c\u2500\u2500 \u001b[01;34mmodels\u001b[00m\r\n",
        "    \u2502\u00a0\u00a0 \u2514\u2500\u2500 meta.db\r\n",
        "    \u2514\u2500\u2500 \u001b[01;34mtemp\u001b[00m\r\n",
        "\r\n",
        "4 directories, 2 files\r\n"
       ]
      }
     ],
     "prompt_number": 79
    },
    {
     "cell_type": "code",
     "collapsed": false,
     "input": [
      "## create model template and data\n",
      "sgd_template = linear_model.SGDClassifier()\n",
      "pca_template = decomposition.PCA(n_components = 30)\n",
      "digits_raw = datasets.load_digits()\n",
      "X_feats = ['X%i' % (i,) for i in range(digits_raw.data.shape[1])]\n",
      "y_feats = ['Digit']\n",
      "X = pd.DataFrame(digits_raw.data, columns= X_feats)\n",
      "y = pd.DataFrame(digits_raw.target, columns = y_feats)\n",
      "digits = hglue([X, y])\n",
      "\n",
      "sgd_meta = create_model_meta(model_name = 'sgd_template', model_type = ModelType.MULTI_CLASSIFIER)\n",
      "pca_meta = create_model_meta(model_name = 'pca_template', model_type = ModelType.FEATURE_EXTRACTOR)\n",
      "digits_meta = create_data_meta(data_name = 'digits', data_namespace = 'digits', \n",
      "                               input_feats = X_feats, output_feats = y_feats, \n",
      "                               data_type = DataType.MULTI_CLASSIFICATION)\n",
      "\n",
      "write_model(sgd_meta, sgd_template, project_path)\n",
      "write_model(pca_meta, pca_template, project_path)\n",
      "write_data(digits_meta, digits, project_path)\n",
      "\n",
      "\n",
      "!tree data"
     ],
     "language": "python",
     "metadata": {},
     "outputs": [
      {
       "output_type": "stream",
       "stream": "stdout",
       "text": [
        "\u001b[01;34mdata\u001b[00m\r\n",
        "\u2514\u2500\u2500 \u001b[01;34mpipeline1\u001b[00m\r\n",
        "    \u251c\u2500\u2500 \u001b[01;34mdata\u001b[00m\r\n",
        "    \u2502\u00a0\u00a0 \u251c\u2500\u2500 \u001b[01;34mdigits\u001b[00m\r\n",
        "    \u2502\u00a0\u00a0 \u2502\u00a0\u00a0 \u251c\u2500\u2500 bulk.pkl\r\n",
        "    \u2502\u00a0\u00a0 \u2502\u00a0\u00a0 \u251c\u2500\u2500 bulk.pkl_01.npy\r\n",
        "    \u2502\u00a0\u00a0 \u2502\u00a0\u00a0 \u2514\u2500\u2500 bulk.pkl_02.npy\r\n",
        "    \u2502\u00a0\u00a0 \u2514\u2500\u2500 meta.db\r\n",
        "    \u251c\u2500\u2500 \u001b[01;34mmodels\u001b[00m\r\n",
        "    \u2502\u00a0\u00a0 \u251c\u2500\u2500 meta.db\r\n",
        "    \u2502\u00a0\u00a0 \u251c\u2500\u2500 \u001b[01;34mpca_template\u001b[00m\r\n",
        "    \u2502\u00a0\u00a0 \u2502\u00a0\u00a0 \u2514\u2500\u2500 bulk.pkl\r\n",
        "    \u2502\u00a0\u00a0 \u2514\u2500\u2500 \u001b[01;34msgd_template\u001b[00m\r\n",
        "    \u2502\u00a0\u00a0     \u2514\u2500\u2500 bulk.pkl\r\n",
        "    \u2514\u2500\u2500 \u001b[01;34mtemp\u001b[00m\r\n",
        "\r\n",
        "7 directories, 7 files\r\n"
       ]
      }
     ],
     "prompt_number": 80
    },
    {
     "cell_type": "code",
     "collapsed": false,
     "input": [
      "#def train_on(model_name, data_name, trained_model_name, project_path = None)\n",
      "#def predict_on(model_name, data_name, predicted_data_name, project_path = None)\n",
      "\n",
      "\n",
      "pipeline = make_pipeline('digits_sgd_pipeline')\n",
      "train_sgd_pipe = make_pipe(train_on, pipeline, 'train_sgd_pipe')\n",
      "predict_sgd_pipe = make_pipe(predict_on, pipeline, 'predict_sgd_pipe')\n",
      "connect_pipes(train_sgd_pipe, 'trained_model_name',\n",
      "              predict_sgd_pipe, 'model_name',\n",
      "              pipeline)\n",
      "bind_args(['model_name', 'data_name', 'project_path'], ['sgd_template', 'digits', project_path], \n",
      "          train_sgd_pipe, pipeline)\n",
      "bind_args(['data_name', 'predicted_data_name', 'project_path'], ['digits', 'sgd_FOR_digits', project_path],\n",
      "          predict_sgd_pipe, pipeline)\n",
      "run_pipeline(pipeline)\n",
      "print score_on('digits', 'sgd_FOR_digits', metrics.accuracy_score, project_path)\n",
      "!tree"
     ],
     "language": "python",
     "metadata": {},
     "outputs": [
      {
       "output_type": "stream",
       "stream": "stdout",
       "text": [
        "0.950473010573\n",
        "\u001b[01;34m.\u001b[00m\r\n",
        "\u251c\u2500\u2500 \u001b[01;34mdata\u001b[00m\r\n",
        "\u2502\u00a0\u00a0 \u2514\u2500\u2500 \u001b[01;34mpipeline1\u001b[00m\r\n",
        "\u2502\u00a0\u00a0     \u251c\u2500\u2500 \u001b[01;34mdata\u001b[00m\r\n",
        "\u2502\u00a0\u00a0     \u2502\u00a0\u00a0 \u251c\u2500\u2500 \u001b[01;34mdigits\u001b[00m\r\n",
        "\u2502\u00a0\u00a0     \u2502\u00a0\u00a0 \u2502\u00a0\u00a0 \u251c\u2500\u2500 bulk.pkl\r\n",
        "\u2502\u00a0\u00a0     \u2502\u00a0\u00a0 \u2502\u00a0\u00a0 \u251c\u2500\u2500 bulk.pkl_01.npy\r\n",
        "\u2502\u00a0\u00a0     \u2502\u00a0\u00a0 \u2502\u00a0\u00a0 \u2514\u2500\u2500 bulk.pkl_02.npy\r\n",
        "\u2502\u00a0\u00a0     \u2502\u00a0\u00a0 \u251c\u2500\u2500 meta.db\r\n",
        "\u2502\u00a0\u00a0     \u2502\u00a0\u00a0 \u2514\u2500\u2500 \u001b[01;34msgd_FOR_digits\u001b[00m\r\n",
        "\u2502\u00a0\u00a0     \u2502\u00a0\u00a0     \u251c\u2500\u2500 bulk.pkl\r\n",
        "\u2502\u00a0\u00a0     \u2502\u00a0\u00a0     \u251c\u2500\u2500 bulk.pkl_01.npy\r\n",
        "\u2502\u00a0\u00a0     \u2502\u00a0\u00a0     \u2514\u2500\u2500 bulk.pkl_02.npy\r\n",
        "\u2502\u00a0\u00a0     \u251c\u2500\u2500 \u001b[01;34mmodels\u001b[00m\r\n",
        "\u2502\u00a0\u00a0     \u2502\u00a0\u00a0 \u251c\u2500\u2500 \u001b[01;34mdigits_sgd_pipeline_(train_sgd_pipe_OUT)\u001b[00m\r\n",
        "\u2502\u00a0\u00a0     \u2502\u00a0\u00a0 \u2502\u00a0\u00a0 \u251c\u2500\u2500 bulk.pkl\r\n",
        "\u2502\u00a0\u00a0     \u2502\u00a0\u00a0 \u2502\u00a0\u00a0 \u251c\u2500\u2500 bulk.pkl_01.npy\r\n",
        "\u2502\u00a0\u00a0     \u2502\u00a0\u00a0 \u2502\u00a0\u00a0 \u251c\u2500\u2500 bulk.pkl_02.npy\r\n",
        "\u2502\u00a0\u00a0     \u2502\u00a0\u00a0 \u2502\u00a0\u00a0 \u251c\u2500\u2500 bulk.pkl_03.npy\r\n",
        "\u2502\u00a0\u00a0     \u2502\u00a0\u00a0 \u2502\u00a0\u00a0 \u2514\u2500\u2500 bulk.pkl_04.npy\r\n",
        "\u2502\u00a0\u00a0     \u2502\u00a0\u00a0 \u251c\u2500\u2500 meta.db\r\n",
        "\u2502\u00a0\u00a0     \u2502\u00a0\u00a0 \u251c\u2500\u2500 \u001b[01;34mpca_template\u001b[00m\r\n",
        "\u2502\u00a0\u00a0     \u2502\u00a0\u00a0 \u2502\u00a0\u00a0 \u2514\u2500\u2500 bulk.pkl\r\n",
        "\u2502\u00a0\u00a0     \u2502\u00a0\u00a0 \u2514\u2500\u2500 \u001b[01;34msgd_template\u001b[00m\r\n",
        "\u2502\u00a0\u00a0     \u2502\u00a0\u00a0     \u2514\u2500\u2500 bulk.pkl\r\n",
        "\u2502\u00a0\u00a0     \u2514\u2500\u2500 \u001b[01;34mtemp\u001b[00m\r\n",
        "\u251c\u2500\u2500 iris_pipelines.ipynb\r\n",
        "\u251c\u2500\u2500 models.py\r\n",
        "\u251c\u2500\u2500 models.pyc\r\n",
        "\u251c\u2500\u2500 pipeline.py\r\n",
        "\u251c\u2500\u2500 pipelines.ipynb\r\n",
        "\u251c\u2500\u2500 pipelines_v2.ipynb\r\n",
        "\u2514\u2500\u2500 pipeline_v1.ipynb\r\n",
        "\r\n",
        "10 directories, 22 files\r\n"
       ]
      }
     ],
     "prompt_number": 81
    },
    {
     "cell_type": "code",
     "collapsed": false,
     "input": [
      "#def train_on(model_name, data_name, trained_model_name, project_path = None)\n",
      "#def predict_on(model_name, data_name, predicted_data_name, project_path = None)\n",
      "#def transform_on(model_name, data_name, transformed_data_name, project_path = None)\n",
      "digits_pca_sgd_pipeline = make_pipeline('digits_pca_sgd_pipeline')\n",
      "\n",
      "train_pca_pipe = make_pipe(train_on, digits_pca_sgd_pipeline, 'train_pca_pipe')\n",
      "transform_pca_pipe_train = make_pipe(transform_on, digits_pca_sgd_pipeline, 'transform_pca_pipe_train')\n",
      "train_sgd_pipe = make_pipe(train_on, digits_pca_sgd_pipeline, 'train_sgd_pipe')\n",
      "transform_pca_pipe_test = make_pipe(transform_on, digits_pca_sgd_pipeline, 'transform_pca_pipe_test')\n",
      "predict_sgd_pipe = make_pipe(predict_on, digits_pca_sgd_pipeline, 'predict_sgd_pipe')\n",
      "\n",
      "\n",
      "\n",
      "connect_pipes(from_id = train_pca_pipe, out_arg = 'trained_model_name', \n",
      "              to_id = transform_pca_pipe_train, in_arg = 'model_name', \n",
      "              pipeline = digits_pca_sgd_pipeline)\n",
      "connect_pipes(from_id = transform_pca_pipe_train, out_arg = 'transformed_data_name', \n",
      "              to_id = train_sgd_pipe, in_arg = 'data_name',\n",
      "              pipeline = digits_pca_sgd_pipeline)\n",
      "connect_pipes(from_id = train_sgd_pipe, out_arg = 'trained_model_name',\n",
      "              to_id = predict_sgd_pipe, in_arg = 'model_name',\n",
      "              pipeline = digits_pca_sgd_pipeline)\n",
      "connect_pipes(from_id = train_pca_pipe, out_arg = 'trained_model_name', \n",
      "              to_id = transform_pca_pipe_test, in_arg = 'model_name', \n",
      "              pipeline = digits_pca_sgd_pipeline)\n",
      "connect_pipes(from_id = transform_pca_pipe_test, out_arg = 'transformed_data_name', \n",
      "              to_id = predict_sgd_pipe, in_arg = 'data_name', \n",
      "              pipeline = digits_pca_sgd_pipeline)\n",
      "\n",
      "bind_args(args = ['model_name', 'data_name', 'project_path'], \n",
      "          values = ['pca_template','digits', project_path], \n",
      "          pipe_id = train_pca_pipe, pipeline = digits_pca_sgd_pipeline)\n",
      "bind_args(args = ['data_name', 'project_path'],\n",
      "          values = ['digits', project_path],\n",
      "          pipe_id = transform_pca_pipe_train, pipeline = digits_pca_sgd_pipeline)\n",
      "bind_args(args =['model_name', 'project_path'],\n",
      "          values = ['sgd_template', project_path],\n",
      "          pipe_id = train_sgd_pipe, pipeline = digits_pca_sgd_pipeline)\n",
      "bind_args(args =['data_name', 'project_path'],\n",
      "          values = ['digits', project_path],\n",
      "          pipe_id = transform_pca_pipe_test, pipeline = digits_pca_sgd_pipeline)\n",
      "bind_args(args = ['predicted_data_name', 'project_path'],\n",
      "          values = ['pca_sgd_FOR_digits', project_path],\n",
      "          pipe_id = predict_sgd_pipe, pipeline = digits_pca_sgd_pipeline)\n",
      "\n",
      "run_pipeline(digits_pca_sgd_pipeline)"
     ],
     "language": "python",
     "metadata": {},
     "outputs": [],
     "prompt_number": 82
    },
    {
     "cell_type": "code",
     "collapsed": false,
     "input": [
      "%pylab inline\n",
      "inspect_pipeline(digits_pca_sgd_pipeline)"
     ],
     "language": "python",
     "metadata": {},
     "outputs": [
      {
       "output_type": "stream",
       "stream": "stdout",
       "text": [
        "Populating the interactive namespace from numpy and matplotlib\n"
       ]
      },
      {
       "metadata": {},
       "output_type": "display_data",
       "png": "[encoded data removed]",
       "text": [
        "<matplotlib.figure.Figure at 0x5569290>"
       ]
      }
     ],
     "prompt_number": 88
    },
    {
     "cell_type": "code",
     "collapsed": false,
     "input": [
      "nx.is_directed_acyclic_graph(digits_pca_sgd_pipeline)"
     ],
     "language": "python",
     "metadata": {},
     "outputs": [
      {
       "metadata": {},
       "output_type": "pyout",
       "prompt_number": 73,
       "text": [
        "True"
       ]
      }
     ],
     "prompt_number": 73
    },
    {
     "cell_type": "code",
     "collapsed": false,
     "input": [
      "print score_on('digits', 'pca_sgd_FOR_digits', metrics.accuracy_score, project_path=project_path)\n",
      "!tree"
     ],
     "language": "python",
     "metadata": {},
     "outputs": [
      {
       "output_type": "stream",
       "stream": "stdout",
       "text": [
        "0.929326655537\n",
        "\u001b[01;34m.\u001b[00m\r\n",
        "\u251c\u2500\u2500 \u001b[01;34mdata\u001b[00m\r\n",
        "\u2502\u00a0\u00a0 \u2514\u2500\u2500 \u001b[01;34mpipeline1\u001b[00m\r\n",
        "\u2502\u00a0\u00a0     \u251c\u2500\u2500 \u001b[01;34mdata\u001b[00m\r\n",
        "\u2502\u00a0\u00a0     \u2502\u00a0\u00a0 \u251c\u2500\u2500 \u001b[01;34mdigits\u001b[00m\r\n",
        "\u2502\u00a0\u00a0     \u2502\u00a0\u00a0 \u2502\u00a0\u00a0 \u251c\u2500\u2500 bulk.pkl\r\n",
        "\u2502\u00a0\u00a0     \u2502\u00a0\u00a0 \u2502\u00a0\u00a0 \u251c\u2500\u2500 bulk.pkl_01.npy\r\n",
        "\u2502\u00a0\u00a0     \u2502\u00a0\u00a0 \u2502\u00a0\u00a0 \u2514\u2500\u2500 bulk.pkl_02.npy\r\n",
        "\u2502\u00a0\u00a0     \u2502\u00a0\u00a0 \u251c\u2500\u2500 \u001b[01;34mdigits_pca_sgd_pipeline_(transform_pca_pipe_test_OUT)\u001b[00m\r\n",
        "\u2502\u00a0\u00a0     \u2502\u00a0\u00a0 \u2502\u00a0\u00a0 \u251c\u2500\u2500 bulk.pkl\r\n",
        "\u2502\u00a0\u00a0     \u2502\u00a0\u00a0 \u2502\u00a0\u00a0 \u251c\u2500\u2500 bulk.pkl_01.npy\r\n",
        "\u2502\u00a0\u00a0     \u2502\u00a0\u00a0 \u2502\u00a0\u00a0 \u2514\u2500\u2500 bulk.pkl_02.npy\r\n",
        "\u2502\u00a0\u00a0     \u2502\u00a0\u00a0 \u251c\u2500\u2500 \u001b[01;34mdigits_pca_sgd_pipeline_(transform_pca_pipe_train_OUT)\u001b[00m\r\n",
        "\u2502\u00a0\u00a0     \u2502\u00a0\u00a0 \u2502\u00a0\u00a0 \u251c\u2500\u2500 bulk.pkl\r\n",
        "\u2502\u00a0\u00a0     \u2502\u00a0\u00a0 \u2502\u00a0\u00a0 \u251c\u2500\u2500 bulk.pkl_01.npy\r\n",
        "\u2502\u00a0\u00a0     \u2502\u00a0\u00a0 \u2502\u00a0\u00a0 \u2514\u2500\u2500 bulk.pkl_02.npy\r\n",
        "\u2502\u00a0\u00a0     \u2502\u00a0\u00a0 \u251c\u2500\u2500 meta.db\r\n",
        "\u2502\u00a0\u00a0     \u2502\u00a0\u00a0 \u251c\u2500\u2500 \u001b[01;34mpca_sgd_FOR_digits\u001b[00m\r\n",
        "\u2502\u00a0\u00a0     \u2502\u00a0\u00a0 \u2502\u00a0\u00a0 \u251c\u2500\u2500 bulk.pkl\r\n",
        "\u2502\u00a0\u00a0     \u2502\u00a0\u00a0 \u2502\u00a0\u00a0 \u251c\u2500\u2500 bulk.pkl_01.npy\r\n",
        "\u2502\u00a0\u00a0     \u2502\u00a0\u00a0 \u2502\u00a0\u00a0 \u2514\u2500\u2500 bulk.pkl_02.npy\r\n",
        "\u2502\u00a0\u00a0     \u2502\u00a0\u00a0 \u2514\u2500\u2500 \u001b[01;34msgd_FOR_digits\u001b[00m\r\n",
        "\u2502\u00a0\u00a0     \u2502\u00a0\u00a0     \u251c\u2500\u2500 bulk.pkl\r\n",
        "\u2502\u00a0\u00a0     \u2502\u00a0\u00a0     \u251c\u2500\u2500 bulk.pkl_01.npy\r\n",
        "\u2502\u00a0\u00a0     \u2502\u00a0\u00a0     \u2514\u2500\u2500 bulk.pkl_02.npy\r\n",
        "\u2502\u00a0\u00a0     \u251c\u2500\u2500 \u001b[01;34mmodels\u001b[00m\r\n",
        "\u2502\u00a0\u00a0     \u2502\u00a0\u00a0 \u251c\u2500\u2500 \u001b[01;34mdigits_pca_sgd_pipeline_(train_pca_pipe_OUT)\u001b[00m\r\n",
        "\u2502\u00a0\u00a0     \u2502\u00a0\u00a0 \u2502\u00a0\u00a0 \u251c\u2500\u2500 bulk.pkl\r\n",
        "\u2502\u00a0\u00a0     \u2502\u00a0\u00a0 \u2502\u00a0\u00a0 \u251c\u2500\u2500 bulk.pkl_01.npy\r\n",
        "\u2502\u00a0\u00a0     \u2502\u00a0\u00a0 \u2502\u00a0\u00a0 \u251c\u2500\u2500 bulk.pkl_02.npy\r\n",
        "\u2502\u00a0\u00a0     \u2502\u00a0\u00a0 \u2502\u00a0\u00a0 \u251c\u2500\u2500 bulk.pkl_03.npy\r\n",
        "\u2502\u00a0\u00a0     \u2502\u00a0\u00a0 \u2502\u00a0\u00a0 \u2514\u2500\u2500 bulk.pkl_04.npy\r\n",
        "\u2502\u00a0\u00a0     \u2502\u00a0\u00a0 \u251c\u2500\u2500 \u001b[01;34mdigits_pca_sgd_pipeline_(train_sgd_pipe_OUT)\u001b[00m\r\n",
        "\u2502\u00a0\u00a0     \u2502\u00a0\u00a0 \u2502\u00a0\u00a0 \u251c\u2500\u2500 bulk.pkl\r\n",
        "\u2502\u00a0\u00a0     \u2502\u00a0\u00a0 \u2502\u00a0\u00a0 \u251c\u2500\u2500 bulk.pkl_01.npy\r\n",
        "\u2502\u00a0\u00a0     \u2502\u00a0\u00a0 \u2502\u00a0\u00a0 \u251c\u2500\u2500 bulk.pkl_02.npy\r\n",
        "\u2502\u00a0\u00a0     \u2502\u00a0\u00a0 \u2502\u00a0\u00a0 \u251c\u2500\u2500 bulk.pkl_03.npy\r\n",
        "\u2502\u00a0\u00a0     \u2502\u00a0\u00a0 \u2502\u00a0\u00a0 \u2514\u2500\u2500 bulk.pkl_04.npy\r\n",
        "\u2502\u00a0\u00a0     \u2502\u00a0\u00a0 \u251c\u2500\u2500 \u001b[01;34mdigits_sgd_pipeline_(train_sgd_pipe_OUT)\u001b[00m\r\n",
        "\u2502\u00a0\u00a0     \u2502\u00a0\u00a0 \u2502\u00a0\u00a0 \u251c\u2500\u2500 bulk.pkl\r\n",
        "\u2502\u00a0\u00a0     \u2502\u00a0\u00a0 \u2502\u00a0\u00a0 \u251c\u2500\u2500 bulk.pkl_01.npy\r\n",
        "\u2502\u00a0\u00a0     \u2502\u00a0\u00a0 \u2502\u00a0\u00a0 \u251c\u2500\u2500 bulk.pkl_02.npy\r\n",
        "\u2502\u00a0\u00a0     \u2502\u00a0\u00a0 \u2502\u00a0\u00a0 \u251c\u2500\u2500 bulk.pkl_03.npy\r\n",
        "\u2502\u00a0\u00a0     \u2502\u00a0\u00a0 \u2502\u00a0\u00a0 \u2514\u2500\u2500 bulk.pkl_04.npy\r\n",
        "\u2502\u00a0\u00a0     \u2502\u00a0\u00a0 \u251c\u2500\u2500 meta.db\r\n",
        "\u2502\u00a0\u00a0     \u2502\u00a0\u00a0 \u251c\u2500\u2500 \u001b[01;34mpca_template\u001b[00m\r\n",
        "\u2502\u00a0\u00a0     \u2502\u00a0\u00a0 \u2502\u00a0\u00a0 \u2514\u2500\u2500 bulk.pkl\r\n",
        "\u2502\u00a0\u00a0     \u2502\u00a0\u00a0 \u2514\u2500\u2500 \u001b[01;34msgd_template\u001b[00m\r\n",
        "\u2502\u00a0\u00a0     \u2502\u00a0\u00a0     \u2514\u2500\u2500 bulk.pkl\r\n",
        "\u2502\u00a0\u00a0     \u2514\u2500\u2500 \u001b[01;34mtemp\u001b[00m\r\n",
        "\u251c\u2500\u2500 iris_pipelines.ipynb\r\n",
        "\u251c\u2500\u2500 models.py\r\n",
        "\u251c\u2500\u2500 models.pyc\r\n",
        "\u251c\u2500\u2500 pipeline.py\r\n",
        "\u251c\u2500\u2500 pipelines.ipynb\r\n",
        "\u251c\u2500\u2500 pipelines_v2.ipynb\r\n",
        "\u2514\u2500\u2500 pipeline_v1.ipynb\r\n",
        "\r\n",
        "15 directories, 41 files\r\n"
       ]
      }
     ],
     "prompt_number": 76
    },
    {
     "cell_type": "code",
     "collapsed": false,
     "input": [],
     "language": "python",
     "metadata": {},
     "outputs": []
    }
   ],
   "metadata": {}
  }
 ]
}