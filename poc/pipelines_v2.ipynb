{
 "metadata": {
  "name": ""
 },
 "nbformat": 3,
 "nbformat_minor": 0,
 "worksheets": [
  {
   "cells": [
    {
     "cell_type": "code",
     "collapsed": false,
     "input": [
      "import networkx as nx\n",
      "import inspect\n",
      "import copy"
     ],
     "language": "python",
     "metadata": {},
     "outputs": [],
     "prompt_number": 2
    },
    {
     "cell_type": "code",
     "collapsed": false,
     "input": [
      "def make_pipeline():\n",
      "    pipeline = nx.DiGraph()\n",
      "    pipeline.max_id = 0 ## infinite source of id\n",
      "    return pipeline\n",
      "\n",
      "def make_pipe(fn, pipeline):\n",
      "    pipe_id = pipeline.max_id\n",
      "    pipeline.max_id += 1 \n",
      "    arg_names = inspect.getargspec(fn).args\n",
      "    pipe_config = {'fn': fn, 'args': arg_names, \n",
      "                    'bindings': {k:None for k in arg_names}}\n",
      "    pipeline.add_node(pipe_id, pipe_config)\n",
      "    return pipe_id\n",
      "\n",
      "def connect_pipes(from_id, out_arg, to_id, in_arg, pipeline):\n",
      "    pipeline.add_edge(from_id, to_id)\n",
      "    from_node = pipeline.node[from_id]\n",
      "    to_node = pipeline.node[to_id]\n",
      "    assert from_node['bindings'][out_arg] is None\n",
      "    assert to_node['bindings'][in_arg] is None\n",
      "    common_item = 'pipeline%i_%i_to_%i' % (id(pipeline), from_id, to_id)\n",
      "    from_node['bindings'][out_arg] = common_item\n",
      "    to_node['bindings'][in_arg] = common_item\n",
      "    return pipeline\n",
      "\n",
      "def bind_args(args, values, pipe_id, pipeline):\n",
      "    pipe_node = pipeline.node[pipe_id]\n",
      "    for arg, value in zip(args, values):\n",
      "        assert pipe_node['bindings'][arg] is None\n",
      "        pipe_node['bindings'][arg] = value\n",
      "        \n",
      "def run_pipeline(pipeline):\n",
      "    for pipe_id in nx.topological_sort(pipeline):\n",
      "        pipe_node = pipeline.node[pipe_id]\n",
      "        fn = pipe_node['fn']\n",
      "        bindings = pipe_node['bindings']\n",
      "        fn(**bindings)"
     ],
     "language": "python",
     "metadata": {},
     "outputs": [],
     "prompt_number": 3
    },
    {
     "cell_type": "code",
     "collapsed": false,
     "input": [
      "fs = {'model_template': 'rf',\n",
      "      'train_data': 'mnist_train',\n",
      "      'test_data': 'mnist_test',\n",
      "      'predicted_data': None}\n",
      "\n",
      "def train_model(data, model_template, trained_model):\n",
      "    fs[trained_model] = fs[model_template] + '_ON_' + fs[data]\n",
      "\n",
      "def predict_model(data, model, prediction):\n",
      "    fs[prediction] = fs[model] + '_FOR_' + fs[data]\n",
      "    \n",
      "    \n",
      "\n",
      "pipeline = make_pipeline()\n",
      "train_pipe = make_pipe(train_model, pipeline = pipeline)\n",
      "predict_pipe = make_pipe(predict_model, pipeline = pipeline)\n",
      "pipeline = connect_pipes(train_pipe, 'trained_model', \n",
      "                         predict_pipe, 'model', pipeline = pipeline)\n",
      "bind_args(['data', 'model_template'], ['train_data', 'model_template'], train_pipe, pipeline)\n",
      "bind_args(['data', 'prediction'], ['test_data', 'predicted_data'], predict_pipe, pipeline)\n",
      "#print pipeline.nodes(True)\n",
      "run_pipeline(pipeline)\n",
      "\n",
      "print fs['predicted_data']"
     ],
     "language": "python",
     "metadata": {},
     "outputs": [
      {
       "output_type": "stream",
       "stream": "stdout",
       "text": [
        "rf_ON_mnist_train_FOR_mnist_test\n"
       ]
      }
     ],
     "prompt_number": 4
    },
    {
     "cell_type": "code",
     "collapsed": false,
     "input": [],
     "language": "python",
     "metadata": {},
     "outputs": []
    }
   ],
   "metadata": {}
  }
 ]
}